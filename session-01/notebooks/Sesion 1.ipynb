{
 "cells": [
  {
   "cell_type": "code",
   "execution_count": 9,
   "id": "e358599b-a3d2-4419-b6e2-5532dd24c74f",
   "metadata": {},
   "outputs": [
    {
     "name": "stdout",
     "output_type": "stream",
     "text": [
      "/workspaces/taller/session-01/notebooks\n"
     ]
    }
   ],
   "source": [
    "import os\n",
    "print(os.getcwd())\n"
   ]
  },
  {
   "cell_type": "code",
   "execution_count": null,
   "id": "a0ef8328",
   "metadata": {},
   "outputs": [],
   "source": []
  },
  {
   "cell_type": "markdown",
   "id": "ba04a02e",
   "metadata": {},
   "source": [
    "# Sesión 1 – Introducción al Análisis Predictivo\n",
    "### Exploración inicial de datos con Python"
   ]
  },
  {
   "cell_type": "markdown",
   "id": "85f615b4",
   "metadata": {},
   "source": [
    "En esta primera sesión trabajaremos con un conjunto de datos sintéticos para:\n",
    "- Explorar tipos de variables (numéricas y categóricas).\n",
    "- Visualizar distribuciones simples.\n",
    "- Comprender cómo el análisis descriptivo prepara el camino para la predicción.\n"
   ]
  },
  {
   "cell_type": "markdown",
   "id": "6e9d9cab",
   "metadata": {},
   "source": [
    "### Paso 1: Importar librerías"
   ]
  },
  {
   "cell_type": "code",
   "execution_count": 10,
   "id": "08fa947e",
   "metadata": {},
   "outputs": [],
   "source": [
    "import pandas as pd\n",
    "import matplotlib.pyplot as plt"
   ]
  },
  {
   "cell_type": "markdown",
   "id": "c58b89d9",
   "metadata": {},
   "source": [
    "### Paso 2: Cargar el conjunto de datos"
   ]
  },
  {
   "cell_type": "code",
   "execution_count": 15,
   "id": "8730e8e6",
   "metadata": {},
   "outputs": [
    {
     "data": {
      "text/html": [
       "<div>\n",
       "<style scoped>\n",
       "    .dataframe tbody tr th:only-of-type {\n",
       "        vertical-align: middle;\n",
       "    }\n",
       "\n",
       "    .dataframe tbody tr th {\n",
       "        vertical-align: top;\n",
       "    }\n",
       "\n",
       "    .dataframe thead th {\n",
       "        text-align: right;\n",
       "    }\n",
       "</style>\n",
       "<table border=\"1\" class=\"dataframe\">\n",
       "  <thead>\n",
       "    <tr style=\"text-align: right;\">\n",
       "      <th></th>\n",
       "      <th>Zona</th>\n",
       "      <th>Sede</th>\n",
       "      <th>Línea de negocio</th>\n",
       "      <th>Periodo</th>\n",
       "      <th>Ingresos</th>\n",
       "      <th>Costo operativo</th>\n",
       "      <th>Costo de personal</th>\n",
       "      <th>Utilidad Bruta</th>\n",
       "      <th>Margen Bruto</th>\n",
       "      <th>Gastos operativos</th>\n",
       "      <th>Gastos de personal</th>\n",
       "      <th>Utilidad Operacional</th>\n",
       "      <th>Margen Operacional</th>\n",
       "      <th>Personal administrativo</th>\n",
       "      <th>Personal operativo</th>\n",
       "      <th>Ordenes</th>\n",
       "      <th>Horas Ejecutadas</th>\n",
       "      <th>Capacidad en Horas</th>\n",
       "    </tr>\n",
       "  </thead>\n",
       "  <tbody>\n",
       "    <tr>\n",
       "      <th>0</th>\n",
       "      <td>Zona Bogotá</td>\n",
       "      <td>Bogotá Calle 13</td>\n",
       "      <td>Servicio</td>\n",
       "      <td>ene-21</td>\n",
       "      <td>299.325.646</td>\n",
       "      <td>104.646.270</td>\n",
       "      <td>113.157.183</td>\n",
       "      <td>81.522.194</td>\n",
       "      <td>27,20%</td>\n",
       "      <td>109.535.846</td>\n",
       "      <td>54.461.889</td>\n",
       "      <td>-82.475.542</td>\n",
       "      <td>-27,60%</td>\n",
       "      <td>14</td>\n",
       "      <td>32</td>\n",
       "      <td>521</td>\n",
       "      <td>1676,44</td>\n",
       "      <td>4730</td>\n",
       "    </tr>\n",
       "    <tr>\n",
       "      <th>1</th>\n",
       "      <td>Zona Bogotá</td>\n",
       "      <td>Bogotá Calle 13</td>\n",
       "      <td>Servicio</td>\n",
       "      <td>feb-21</td>\n",
       "      <td>462.791.315</td>\n",
       "      <td>202.931.576</td>\n",
       "      <td>122.156.616</td>\n",
       "      <td>137.703.123</td>\n",
       "      <td>29,80%</td>\n",
       "      <td>133.847.321</td>\n",
       "      <td>70.104.228</td>\n",
       "      <td>-66.248.425</td>\n",
       "      <td>-14,30%</td>\n",
       "      <td>15</td>\n",
       "      <td>32</td>\n",
       "      <td>808</td>\n",
       "      <td>2271,48</td>\n",
       "      <td>4730</td>\n",
       "    </tr>\n",
       "    <tr>\n",
       "      <th>2</th>\n",
       "      <td>Zona Bogotá</td>\n",
       "      <td>Bogotá Calle 13</td>\n",
       "      <td>Servicio</td>\n",
       "      <td>mar-21</td>\n",
       "      <td>695.122.706</td>\n",
       "      <td>197.129.974</td>\n",
       "      <td>132.586.438</td>\n",
       "      <td>365.406.294</td>\n",
       "      <td>52,60%</td>\n",
       "      <td>145.532.851</td>\n",
       "      <td>67.786.612</td>\n",
       "      <td>152.086.830</td>\n",
       "      <td>21,90%</td>\n",
       "      <td>14</td>\n",
       "      <td>31</td>\n",
       "      <td>973</td>\n",
       "      <td>2919,44</td>\n",
       "      <td>4250</td>\n",
       "    </tr>\n",
       "    <tr>\n",
       "      <th>3</th>\n",
       "      <td>Zona Bogotá</td>\n",
       "      <td>Bogotá Calle 13</td>\n",
       "      <td>Servicio</td>\n",
       "      <td>abr-21</td>\n",
       "      <td>247.412.027</td>\n",
       "      <td>84.143.832</td>\n",
       "      <td>129.165.712</td>\n",
       "      <td>34.102.484</td>\n",
       "      <td>13,80%</td>\n",
       "      <td>118.218.962</td>\n",
       "      <td>-28.819.424</td>\n",
       "      <td>-55.297.054</td>\n",
       "      <td>-22,40%</td>\n",
       "      <td>15</td>\n",
       "      <td>30</td>\n",
       "      <td>606</td>\n",
       "      <td>2104,14</td>\n",
       "      <td>4410</td>\n",
       "    </tr>\n",
       "    <tr>\n",
       "      <th>4</th>\n",
       "      <td>Zona Bogotá</td>\n",
       "      <td>Bogotá Calle 13</td>\n",
       "      <td>Servicio</td>\n",
       "      <td>may-21</td>\n",
       "      <td>407.855.098</td>\n",
       "      <td>126.792.611</td>\n",
       "      <td>119.287.355</td>\n",
       "      <td>161.775.133</td>\n",
       "      <td>39,70%</td>\n",
       "      <td>110.659.325</td>\n",
       "      <td>68.472.752</td>\n",
       "      <td>-17.356.945</td>\n",
       "      <td>-4,30%</td>\n",
       "      <td>16</td>\n",
       "      <td>30</td>\n",
       "      <td>635</td>\n",
       "      <td>2100,92</td>\n",
       "      <td>4410</td>\n",
       "    </tr>\n",
       "  </tbody>\n",
       "</table>\n",
       "</div>"
      ],
      "text/plain": [
       "          Zona             Sede Línea de negocio Periodo     Ingresos  \\\n",
       "0  Zona Bogotá  Bogotá Calle 13         Servicio  ene-21  299.325.646   \n",
       "1  Zona Bogotá  Bogotá Calle 13         Servicio  feb-21  462.791.315   \n",
       "2  Zona Bogotá  Bogotá Calle 13         Servicio  mar-21  695.122.706   \n",
       "3  Zona Bogotá  Bogotá Calle 13         Servicio  abr-21  247.412.027   \n",
       "4  Zona Bogotá  Bogotá Calle 13         Servicio  may-21  407.855.098   \n",
       "\n",
       "  Costo operativo Costo de personal Utilidad Bruta Margen Bruto  \\\n",
       "0     104.646.270       113.157.183     81.522.194       27,20%   \n",
       "1     202.931.576       122.156.616    137.703.123       29,80%   \n",
       "2     197.129.974       132.586.438    365.406.294       52,60%   \n",
       "3      84.143.832       129.165.712     34.102.484       13,80%   \n",
       "4     126.792.611       119.287.355    161.775.133       39,70%   \n",
       "\n",
       "  Gastos operativos Gastos de personal Utilidad Operacional  \\\n",
       "0       109.535.846         54.461.889          -82.475.542   \n",
       "1       133.847.321         70.104.228          -66.248.425   \n",
       "2       145.532.851         67.786.612          152.086.830   \n",
       "3       118.218.962        -28.819.424          -55.297.054   \n",
       "4       110.659.325         68.472.752          -17.356.945   \n",
       "\n",
       "  Margen Operacional  Personal administrativo  Personal operativo   Ordenes   \\\n",
       "0            -27,60%                       14                  32        521   \n",
       "1            -14,30%                       15                  32        808   \n",
       "2             21,90%                       14                  31        973   \n",
       "3            -22,40%                       15                  30        606   \n",
       "4             -4,30%                       16                  30        635   \n",
       "\n",
       "   Horas Ejecutadas    Capacidad en Horas   \n",
       "0            1676,44                  4730  \n",
       "1            2271,48                  4730  \n",
       "2            2919,44                  4250  \n",
       "3            2104,14                  4410  \n",
       "4            2100,92                  4410  "
      ]
     },
     "execution_count": 15,
     "metadata": {},
     "output_type": "execute_result"
    }
   ],
   "source": [
    "\n",
    "df = pd.read_csv('../../datos/Base_Taller.csv',sep= ';')\n",
    "df.head()"
   ]
  },
  {
   "cell_type": "markdown",
   "id": "a7e8ba8a",
   "metadata": {},
   "source": [
    "### Paso 3: Revisar estructura del dataset"
   ]
  },
  {
   "cell_type": "code",
   "execution_count": 4,
   "id": "a3f1fc31",
   "metadata": {},
   "outputs": [
    {
     "name": "stdout",
     "output_type": "stream",
     "text": [
      "<class 'pandas.core.frame.DataFrame'>\n",
      "RangeIndex: 100000 entries, 0 to 99999\n",
      "Data columns (total 8 columns):\n",
      " #   Column           Non-Null Count   Dtype  \n",
      "---  ------           --------------   -----  \n",
      " 0   ID               100000 non-null  int64  \n",
      " 1   Nombre           100000 non-null  object \n",
      " 2   Edad             90000 non-null   float64\n",
      " 3   Genero           100000 non-null  object \n",
      " 4   Ingreso          90000 non-null   float64\n",
      " 5   Ciudad           100000 non-null  object \n",
      " 6   Nivel_Educativo  100000 non-null  object \n",
      " 7   Estado_Civil     100000 non-null  object \n",
      "dtypes: float64(2), int64(1), object(5)\n",
      "memory usage: 6.1+ MB\n"
     ]
    }
   ],
   "source": [
    "df.info()"
   ]
  },
  {
   "cell_type": "markdown",
   "id": "df10ec3f",
   "metadata": {},
   "source": [
    "### Paso 4: Descripción estadística general"
   ]
  },
  {
   "cell_type": "code",
   "execution_count": 5,
   "id": "a2bb353d",
   "metadata": {},
   "outputs": [
    {
     "data": {
      "text/html": [
       "<div>\n",
       "<style scoped>\n",
       "    .dataframe tbody tr th:only-of-type {\n",
       "        vertical-align: middle;\n",
       "    }\n",
       "\n",
       "    .dataframe tbody tr th {\n",
       "        vertical-align: top;\n",
       "    }\n",
       "\n",
       "    .dataframe thead th {\n",
       "        text-align: right;\n",
       "    }\n",
       "</style>\n",
       "<table border=\"1\" class=\"dataframe\">\n",
       "  <thead>\n",
       "    <tr style=\"text-align: right;\">\n",
       "      <th></th>\n",
       "      <th>ID</th>\n",
       "      <th>Nombre</th>\n",
       "      <th>Edad</th>\n",
       "      <th>Genero</th>\n",
       "      <th>Ingreso</th>\n",
       "      <th>Ciudad</th>\n",
       "      <th>Nivel_Educativo</th>\n",
       "      <th>Estado_Civil</th>\n",
       "    </tr>\n",
       "  </thead>\n",
       "  <tbody>\n",
       "    <tr>\n",
       "      <th>count</th>\n",
       "      <td>100000.000000</td>\n",
       "      <td>100000</td>\n",
       "      <td>90000.000000</td>\n",
       "      <td>100000</td>\n",
       "      <td>90000.000000</td>\n",
       "      <td>100000</td>\n",
       "      <td>100000</td>\n",
       "      <td>100000</td>\n",
       "    </tr>\n",
       "    <tr>\n",
       "      <th>unique</th>\n",
       "      <td>NaN</td>\n",
       "      <td>8</td>\n",
       "      <td>NaN</td>\n",
       "      <td>2</td>\n",
       "      <td>NaN</td>\n",
       "      <td>10</td>\n",
       "      <td>6</td>\n",
       "      <td>5</td>\n",
       "    </tr>\n",
       "    <tr>\n",
       "      <th>top</th>\n",
       "      <td>NaN</td>\n",
       "      <td>María</td>\n",
       "      <td>NaN</td>\n",
       "      <td>Femenino</td>\n",
       "      <td>NaN</td>\n",
       "      <td>Barranquilla</td>\n",
       "      <td>Posgrado</td>\n",
       "      <td>Casado/a</td>\n",
       "    </tr>\n",
       "    <tr>\n",
       "      <th>freq</th>\n",
       "      <td>NaN</td>\n",
       "      <td>12638</td>\n",
       "      <td>NaN</td>\n",
       "      <td>50181</td>\n",
       "      <td>NaN</td>\n",
       "      <td>10153</td>\n",
       "      <td>16797</td>\n",
       "      <td>20099</td>\n",
       "    </tr>\n",
       "    <tr>\n",
       "      <th>mean</th>\n",
       "      <td>50000.500000</td>\n",
       "      <td>NaN</td>\n",
       "      <td>34.528022</td>\n",
       "      <td>NaN</td>\n",
       "      <td>4000.388927</td>\n",
       "      <td>NaN</td>\n",
       "      <td>NaN</td>\n",
       "      <td>NaN</td>\n",
       "    </tr>\n",
       "    <tr>\n",
       "      <th>std</th>\n",
       "      <td>28867.657797</td>\n",
       "      <td>NaN</td>\n",
       "      <td>9.987865</td>\n",
       "      <td>NaN</td>\n",
       "      <td>798.873433</td>\n",
       "      <td>NaN</td>\n",
       "      <td>NaN</td>\n",
       "      <td>NaN</td>\n",
       "    </tr>\n",
       "    <tr>\n",
       "      <th>min</th>\n",
       "      <td>1.000000</td>\n",
       "      <td>NaN</td>\n",
       "      <td>-3.000000</td>\n",
       "      <td>NaN</td>\n",
       "      <td>752.640000</td>\n",
       "      <td>NaN</td>\n",
       "      <td>NaN</td>\n",
       "      <td>NaN</td>\n",
       "    </tr>\n",
       "    <tr>\n",
       "      <th>25%</th>\n",
       "      <td>25000.750000</td>\n",
       "      <td>NaN</td>\n",
       "      <td>28.000000</td>\n",
       "      <td>NaN</td>\n",
       "      <td>3462.080000</td>\n",
       "      <td>NaN</td>\n",
       "      <td>NaN</td>\n",
       "      <td>NaN</td>\n",
       "    </tr>\n",
       "    <tr>\n",
       "      <th>50%</th>\n",
       "      <td>50000.500000</td>\n",
       "      <td>NaN</td>\n",
       "      <td>34.000000</td>\n",
       "      <td>NaN</td>\n",
       "      <td>4002.875000</td>\n",
       "      <td>NaN</td>\n",
       "      <td>NaN</td>\n",
       "      <td>NaN</td>\n",
       "    </tr>\n",
       "    <tr>\n",
       "      <th>75%</th>\n",
       "      <td>75000.250000</td>\n",
       "      <td>NaN</td>\n",
       "      <td>41.000000</td>\n",
       "      <td>NaN</td>\n",
       "      <td>4537.935000</td>\n",
       "      <td>NaN</td>\n",
       "      <td>NaN</td>\n",
       "      <td>NaN</td>\n",
       "    </tr>\n",
       "    <tr>\n",
       "      <th>max</th>\n",
       "      <td>100000.000000</td>\n",
       "      <td>NaN</td>\n",
       "      <td>78.000000</td>\n",
       "      <td>NaN</td>\n",
       "      <td>7489.460000</td>\n",
       "      <td>NaN</td>\n",
       "      <td>NaN</td>\n",
       "      <td>NaN</td>\n",
       "    </tr>\n",
       "  </tbody>\n",
       "</table>\n",
       "</div>"
      ],
      "text/plain": [
       "                   ID  Nombre          Edad    Genero       Ingreso  \\\n",
       "count   100000.000000  100000  90000.000000    100000  90000.000000   \n",
       "unique            NaN       8           NaN         2           NaN   \n",
       "top               NaN   María           NaN  Femenino           NaN   \n",
       "freq              NaN   12638           NaN     50181           NaN   \n",
       "mean     50000.500000     NaN     34.528022       NaN   4000.388927   \n",
       "std      28867.657797     NaN      9.987865       NaN    798.873433   \n",
       "min          1.000000     NaN     -3.000000       NaN    752.640000   \n",
       "25%      25000.750000     NaN     28.000000       NaN   3462.080000   \n",
       "50%      50000.500000     NaN     34.000000       NaN   4002.875000   \n",
       "75%      75000.250000     NaN     41.000000       NaN   4537.935000   \n",
       "max     100000.000000     NaN     78.000000       NaN   7489.460000   \n",
       "\n",
       "              Ciudad Nivel_Educativo Estado_Civil  \n",
       "count         100000          100000       100000  \n",
       "unique            10               6            5  \n",
       "top     Barranquilla        Posgrado     Casado/a  \n",
       "freq           10153           16797        20099  \n",
       "mean             NaN             NaN          NaN  \n",
       "std              NaN             NaN          NaN  \n",
       "min              NaN             NaN          NaN  \n",
       "25%              NaN             NaN          NaN  \n",
       "50%              NaN             NaN          NaN  \n",
       "75%              NaN             NaN          NaN  \n",
       "max              NaN             NaN          NaN  "
      ]
     },
     "execution_count": 5,
     "metadata": {},
     "output_type": "execute_result"
    }
   ],
   "source": [
    "df.describe(include='all')"
   ]
  },
  {
   "cell_type": "markdown",
   "id": "12b05a4a",
   "metadata": {},
   "source": [
    "## Visualización exploratoria\n",
    "A continuación veremos algunas formas básicas de visualizar nuestros datos."
   ]
  },
  {
   "cell_type": "markdown",
   "id": "1ffb674c",
   "metadata": {},
   "source": [
    "### Gráfico 1: Distribución por Género"
   ]
  },
  {
   "cell_type": "code",
   "execution_count": 6,
   "id": "261dd2e5",
   "metadata": {},
   "outputs": [
    {
     "data": {
      "image/png": "[encoded data removed]",
      "text/plain": [
       "<Figure size 640x480 with 1 Axes>"
      ]
     },
     "metadata": {},
     "output_type": "display_data"
    }
   ],
   "source": [
    "df['Genero'].value_counts().plot(kind='bar', color='skyblue')\n",
    "plt.title('Distribución por Género')\n",
    "plt.xlabel('Género')\n",
    "plt.ylabel('Frecuencia')\n",
    "plt.show()"
   ]
  },
  {
   "cell_type": "markdown",
   "id": "69e9f497",
   "metadata": {},
   "source": [
    "*Interpretación: Este gráfico nos muestra cuántos casos hay por categoría de género en la base.*"
   ]
  },
  {
   "cell_type": "markdown",
   "id": "f89fc2dc",
   "metadata": {},
   "source": [
    "### Gráfico 2: Histograma de edades"
   ]
  },
  {
   "cell_type": "code",
   "execution_count": 7,
   "id": "31be71b5",
   "metadata": {},
   "outputs": [
    {
     "data": {
      "image/png": "[encoded data removed]",
      "text/plain": [
       "<Figure size 640x480 with 1 Axes>"
      ]
     },
     "metadata": {},
     "output_type": "display_data"
    }
   ],
   "source": [
    "df['Edad'].dropna().plot(kind='hist', bins=30, edgecolor='black')\n",
    "plt.title('Distribución de Edades')\n",
    "plt.xlabel('Edad')\n",
    "plt.ylabel('Frecuencia')\n",
    "plt.show()"
   ]
  },
  {
   "cell_type": "markdown",
   "id": "f0024687",
   "metadata": {},
   "source": [
    "*Interpretación: El histograma muestra la frecuencia de edades. Podemos ver la forma de la distribución y posibles sesgos.*"
   ]
  },
  {
   "cell_type": "markdown",
   "id": "56ee7529",
   "metadata": {},
   "source": [
    "### Gráfico 3: Boxplot de ingreso por género"
   ]
  },
  {
   "cell_type": "code",
   "execution_count": 8,
   "id": "e429c37c",
   "metadata": {},
   "outputs": [
    {
     "data": {
      "image/png": "[encoded data removed]",
      "text/plain": [
       "<Figure size 640x480 with 1 Axes>"
      ]
     },
     "metadata": {},
     "output_type": "display_data"
    }
   ],
   "source": [
    "df.boxplot(column='Ingreso', by='Genero')\n",
    "plt.title('Ingreso por Género')\n",
    "plt.suptitle('')\n",
    "plt.xlabel('Género')\n",
    "plt.ylabel('Ingreso mensual estimado')\n",
    "plt.show()"
   ]
  },
  {
   "cell_type": "markdown",
   "id": "c4b17847",
   "metadata": {},
   "source": [
    "*Interpretación: El boxplot permite comparar la distribución del ingreso entre grupos de género, y detectar posibles outliers.*"
   ]
  },
  {
   "cell_type": "markdown",
   "id": "196c0262",
   "metadata": {},
   "source": [
    "## 🧩 Cierre de la sesión y lo que viene\n",
    "**Conclusiones:**\n",
    "- Hoy exploramos un conjunto de datos reales e identificamos variables clave.\n",
    "- Visualizamos la distribución de género, edad e ingreso, y reflexionamos sobre su importancia.\n",
    "- Entendimos que la exploración inicial es esencial antes de aplicar modelos predictivos.\n",
    "\n",
    "**Próximamente (Sesión 2):**\n",
    "- Nos enfocaremos en la **preparación y limpieza de datos**, lo que incluye:\n",
    "  - Tratamiento de valores faltantes\n",
    "  - Codificación de variables categóricas\n",
    "  - Escalado de variables numéricas\n",
    "\n",
    "_Estas transformaciones son fundamentales para construir modelos confiables y efectivos._"
   ]
  }
 ],
 "metadata": {
  "kernelspec": {
   "display_name": "Python 3",
   "language": "python",
   "name": "python3"
  },
  "language_info": {
   "codemirror_mode": {
    "name": "ipython",
    "version": 3
   },
   "file_extension": ".py",
   "mimetype": "text/x-python",
   "name": "python",
   "nbconvert_exporter": "python",
   "pygments_lexer": "ipython3",
   "version": "3.12.1"
  }
 },
 "nbformat": 4,
 "nbformat_minor": 5
}
